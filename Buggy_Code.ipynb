{
  "nbformat": 4,
  "nbformat_minor": 0,
  "metadata": {
    "colab": {
      "provenance": [],
      "include_colab_link": true
    },
    "kernelspec": {
      "name": "python3",
      "display_name": "Python 3"
    },
    "language_info": {
      "name": "python"
    }
  },
  "cells": [
    {
      "cell_type": "markdown",
      "metadata": {
        "id": "view-in-github",
        "colab_type": "text"
      },
      "source": [
        "<a href=\"https://colab.research.google.com/github/Tejaswini916/fix-buggy-code/blob/main/Buggy_Code.ipynb\" target=\"_parent\"><img src=\"https://colab.research.google.com/assets/colab-badge.svg\" alt=\"Open In Colab\"/></a>"
      ]
    },
    {
      "cell_type": "markdown",
      "source": [
        "Find the **Bugs** in the code"
      ],
      "metadata": {
        "id": "4beBOj1YxeyT"
      }
    },
    {
      "cell_type": "code",
      "execution_count": null,
      "metadata": {
        "id": "vKmiogL_xNTX",
        "outputId": "3e6eb02e-f380-4d0d-f536-f7744d98ee92",
        "colab": {
          "base_uri": "https://localhost:8080/"
        }
      },
      "outputs": [
        {
          "output_type": "stream",
          "name": "stdout",
          "text": [
            "Average: 30.0\n"
          ]
        }
      ],
      "source": [
        "def calculate_average(numbers):\n",
        "\n",
        "  if len(numbers)==0:\n",
        "    return 0\n",
        "\n",
        "  total = sum(numbers)\n",
        "  avg = total / len(numbers)\n",
        "  return avg\n",
        "\n",
        "\n",
        "# Test case\n",
        "numbers = [10, 20, 30, 40, 50]\n",
        "print(\"Average:\", calculate_average(numbers))"
      ]
    },
    {
      "cell_type": "code",
      "source": [],
      "metadata": {
        "id": "EJQVtlsBzMjb"
      },
      "execution_count": null,
      "outputs": []
    }
  ]
}