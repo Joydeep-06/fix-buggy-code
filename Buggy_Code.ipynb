{
  "nbformat": 4,
  "nbformat_minor": 0,
  "metadata": {
    "colab": {
      "provenance": [],
      "include_colab_link": true
    },
    "kernelspec": {
      "name": "python3",
      "display_name": "Python 3"
    },
    "language_info": {
      "name": "python"
    }
  },
  "cells": [
    {
      "cell_type": "markdown",
      "metadata": {
        "id": "view-in-github",
        "colab_type": "text"
      },
      "source": [
        "<a href=\"https://colab.research.google.com/github/basiltest/joydeepsir/blob/main/Buggy_Code.ipynb\" target=\"_parent\"><img src=\"https://colab.research.google.com/assets/colab-badge.svg\" alt=\"Open In Colab\"/></a>"
      ]
    },
    {
      "cell_type": "markdown",
      "source": [
        "Find the **Bugs** in the code"
      ],
      "metadata": {
        "id": "4beBOj1YxeyT"
      }
    },
    {
      "cell_type": "code",
      "execution_count": 47,
      "metadata": {
        "id": "vKmiogL_xNTX",
        "colab": {
          "base_uri": "https://localhost:8080/"
        },
        "outputId": "aaf3a521-33a6-4730-c582-0e2b62f750fd"
      },
      "outputs": [
        {
          "output_type": "stream",
          "name": "stdout",
          "text": [
            "the list has no int values\n",
            "Average for list b: None\n",
            "average for c is :  3.0\n"
          ]
        }
      ],
      "source": [
        "def calculate_average(numbers):\n",
        "  total = 0\n",
        "  len_list = 0\n",
        "  for i in numbers:\n",
        "\n",
        "    if type(i) == int:\n",
        "      total += i\n",
        "      len_list += 1\n",
        "\n",
        "  if len_list == 0:\n",
        "      print(\"the list has no int values\")\n",
        "  else:\n",
        "      avg = total/len_list\n",
        "      return avg #avg was written as avrg\n",
        "\n",
        "\n",
        "# Test\n",
        "b = [\"hi\", \"vro\" ] # when list has string\n",
        "\n",
        "print(\"Average for list b:\", calculate_average(b))\n",
        "\n",
        "c = [1,2,3,4,5]\n",
        "print(\"average for c is : \", calculate_average(c))"
      ]
    },
    {
      "cell_type": "code",
      "source": [],
      "metadata": {
        "id": "EJQVtlsBzMjb"
      },
      "execution_count": null,
      "outputs": []
    }
  ]
}